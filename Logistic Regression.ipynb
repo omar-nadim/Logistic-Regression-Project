{
 "cells": [
  {
   "cell_type": "markdown",
   "metadata": {},
   "source": [
    "# Logistic Regression"
   ]
  },
  {
   "cell_type": "markdown",
   "metadata": {},
   "source": [
    "In this notebook, I will implement logistic regression from scratch without using scikit learn library. The same way I did for linear regression to see how the logistic regression algorithm really works."
   ]
  },
  {
   "cell_type": "markdown",
   "metadata": {},
   "source": [
    "I will use the data from the machine learning course taught by Andrew Ng at coursera. The data comes from the second assignment."
   ]
  },
  {
   "cell_type": "markdown",
   "metadata": {},
   "source": [
    "Let's start by importing the basic libraries needed in this exercice "
   ]
  },
  {
   "cell_type": "code",
   "execution_count": 1,
   "metadata": {},
   "outputs": [],
   "source": [
    "from pandas import read_csv\n",
    "from matplotlib import pyplot\n",
    "import numpy"
   ]
  },
  {
   "cell_type": "markdown",
   "metadata": {},
   "source": [
    "In this exercise, I will build a logistic regression model to predict whether a student gets admitted into a university.\n",
    "\n",
    "The goal is to determine each applicant’s chance of admission based on their results on two exams. we have historical data from previous applicants that you can use as a training set for logistic regression. For each training example, we have the applicant’s scores on two exams and the admissions decision.\n",
    "\n",
    "The objective is to build a classification model that estimates an applicant’s probability of admission based on the scores from those two exams. "
   ]
  },
  {
   "cell_type": "markdown",
   "metadata": {},
   "source": [
    "Let's start by loading the data and visualizing it"
   ]
  },
  {
   "cell_type": "code",
   "execution_count": 2,
   "metadata": {},
   "outputs": [],
   "source": [
    "filename = 'ex2data1.csv'\n",
    "names = ['Exam1','Exam2','Class']\n",
    "Dataset = read_csv(filename, names = names)"
   ]
  },
  {
   "cell_type": "markdown",
   "metadata": {},
   "source": [
    "Let's split the data into training features and labels"
   ]
  },
  {
   "cell_type": "code",
   "execution_count": 3,
   "metadata": {},
   "outputs": [],
   "source": [
    "array = Dataset.values\n",
    "\n",
    "X_ = array[:,:-1]\n",
    "Exam_1 = array[:,0]\n",
    "Exam_2 = array[:,1]\n",
    "Y_ = array[:,-1]\n",
    "Y = array[:,-1].reshape(len(Y_),1) # to reshape it as a column"
   ]
  },
  {
   "cell_type": "markdown",
   "metadata": {},
   "source": [
    "Now that the data is split, we can visulize it get an Idea how it looks like"
   ]
  },
  {
   "cell_type": "code",
   "execution_count": 4,
   "metadata": {},
   "outputs": [
    {
     "data": {
      "image/png": "[encoded data removed]",
      "text/plain": [
       "<Figure size 432x288 with 1 Axes>"
      ]
     },
     "metadata": {
      "needs_background": "light"
     },
     "output_type": "display_data"
    }
   ],
   "source": [
    "for i in range(len(Y)):\n",
    "\tif Y[i] == 0:\n",
    "\t\ty0 = pyplot.scatter(Exam_1[i],Exam_2[i], color = 'red', marker='o')\n",
    "\telse:\n",
    "\t\ty1 = pyplot.scatter(Exam_1[i],Exam_2[i], color = 'blue', marker='+')\n",
    "pyplot.xlabel(\"Exam 1 Score\")\n",
    "pyplot.ylabel(\"Exam 2 Score\")\n",
    "pyplot.title(\"Student Classification based on Exam scores\")\n",
    "pyplot.legend((y0,y1),('Not Admitted','Admitted'))\n",
    "pyplot.show()"
   ]
  },
  {
   "cell_type": "markdown",
   "metadata": {},
   "source": [
    "## Introduction to the math behind logistic regression"
   ]
  },
  {
   "cell_type": "markdown",
   "metadata": {},
   "source": [
    "Logistic regression is a classification algorithm. the goal is to seperate the data into classes and predict probabilities for each new example about which class it will most likely belong to.\n",
    "\n",
    "The data is separated with a hyperplane which has the folowing equation:\n",
    "                \n",
    "$$\\Theta^TX =0$$\n",
    "                        \n",
    "with Theta.T being the transpose to the column of weights and X is the training set matrix.\n",
    "\n",
    "Let's suppose we have two classes 0 and 1, we predict the class a training example belongs to by pluging the training example's values into the hyperplane equation. If the outcome is positive, the predicted class is 1. Otherwise, the predicted class will be 0.\n",
    "\n",
    "To convert the outputs of the equations into probabilities we can apply the sigmoid function which takes any value as an input and makes it between 0 and 1.\n",
    "\n",
    "Let's define the sigmoid function:"
   ]
  },
  {
   "cell_type": "code",
   "execution_count": 5,
   "metadata": {},
   "outputs": [],
   "source": [
    "def sigmoid(x):\n",
    "\tz = numpy.exp(-x)\n",
    "\tsigmoid = 1/(1+z)\n",
    "\treturn sigmoid"
   ]
  },
  {
   "cell_type": "markdown",
   "metadata": {},
   "source": [
    "## The cost function"
   ]
  },
  {
   "cell_type": "markdown",
   "metadata": {},
   "source": [
    "In this section I will define the cost function of the logistic regression.\n",
    "\n",
    "The cost function for a single training sample is:\n",
    "\n",
    "$$l(y_i,a_i) = -y_i*log(a_i)-(1-y_i)log(1-a_i)$$\n",
    "                \n",
    "with $a$ being the estimated output and $y$ the true output.\n",
    "\n",
    "To get an intuition why this is the right cost function to use, let's try some values:\n",
    "\n",
    "for y = 0 and a = 0 we have the loss equal to 0 which makes sense as the prediction 'a' is true.\n",
    "if y = 0 and a = 1 the value of the loss is infinity which also makes sense as the prediction is false and it's the opposite of what we expected.\n",
    "\n",
    "The more general cost function for all training samples is:\n",
    "\n",
    "$$L(y,a) = \\frac{1}{m}*\\sum_{i}-y_i*log(a_i)-(1-y_i)log(1-a_i)$$\n",
    "                \n",
    "               \n",
    "\n",
    "Let's define the the cost function called also the Loss function:"
   ]
  },
  {
   "cell_type": "code",
   "execution_count": 6,
   "metadata": {},
   "outputs": [],
   "source": [
    "def costFunction(X,Y,Theta):\n",
    "\th = sigmoid(X.dot(Theta))\n",
    "\tm = len(Y)\n",
    "\tterm1 = Y*numpy.log(h)\n",
    "\tterm2 = (1-Y)*numpy.log(1-h)\n",
    "\tJ = (-1/m)*numpy.sum(term1+term2)\n",
    "\treturn J"
   ]
  },
  {
   "cell_type": "markdown",
   "metadata": {},
   "source": [
    "## The Optimization Phase"
   ]
  },
  {
   "cell_type": "markdown",
   "metadata": {},
   "source": [
    "The main goal of the algorithm is to minimize the loss function. the way to do that is to compute the derivative of loss function for the coefficient Theta.\n",
    "\n",
    "Let's define the function that computes the gradients"
   ]
  },
  {
   "cell_type": "code",
   "execution_count": 7,
   "metadata": {},
   "outputs": [],
   "source": [
    "def computeGradient(X,Y,Theta):\n",
    "\th = sigmoid(X.dot(Theta))\n",
    "\tm = len(Y)\n",
    "\tterm = (h-Y)*X\n",
    "\tgrad = (1/m)*numpy.sum(term,axis=0)\n",
    "\treturn grad.reshape(Theta.size,1)"
   ]
  },
  {
   "cell_type": "markdown",
   "metadata": {},
   "source": [
    "The way to optimize is to update the coefficients in each iteration to reach the minimum of the loss function. we do that with the gradient descent.\n",
    "\n",
    "Let's define the gradient descent function"
   ]
  },
  {
   "cell_type": "code",
   "execution_count": 8,
   "metadata": {},
   "outputs": [],
   "source": [
    "def gradientDescent(X,Y,iterations,learning_rate,Theta):\n",
    "\ti = 0\n",
    "\terror = []\n",
    "\twhile i<iterations:\n",
    "\t\tgradient = computeGradient(X,Y,Theta)\n",
    "\t\tTheta = Theta - learning_rate*gradient\n",
    "\t\ti += 1\n",
    "\treturn Theta"
   ]
  },
  {
   "cell_type": "markdown",
   "metadata": {},
   "source": [
    "Great, Now we have all the component we need to build the algorithm. One more thing we need to do is to add the column of ones to X to complete the equation of the hyperplane and make written in the form of:\n",
    "\n",
    "$$(\\Theta^T)*X =0$$"
   ]
  },
  {
   "cell_type": "code",
   "execution_count": 9,
   "metadata": {},
   "outputs": [],
   "source": [
    "X = numpy.c_[numpy.ones(len(Y)),X_]"
   ]
  },
  {
   "cell_type": "markdown",
   "metadata": {},
   "source": [
    "Let's initialize the coefficients and define the hyperparamters of the algorithm that we are going to need"
   ]
  },
  {
   "cell_type": "code",
   "execution_count": 10,
   "metadata": {},
   "outputs": [],
   "source": [
    "Theta = numpy.zeros((3,1))\n",
    "iterations = 700000\n",
    "learning_rate = 0.001"
   ]
  },
  {
   "cell_type": "markdown",
   "metadata": {},
   "source": [
    "Let's apply the algorithm and predict the class for the following example:"
   ]
  },
  {
   "cell_type": "code",
   "execution_count": 11,
   "metadata": {},
   "outputs": [
    {
     "name": "stdout",
     "output_type": "stream",
     "text": [
      "[0.66964665]\n",
      "[1.]\n"
     ]
    }
   ],
   "source": [
    "Theta = gradientDescent(X,Y,iterations,learning_rate,Theta)\n",
    "\n",
    "x = numpy.array([1,45,85])\n",
    "PredictedY = sigmoid(x.dot(Theta))\n",
    "\n",
    "PredictedClass = numpy.round_(PredictedY)\n",
    "\n",
    "print(PredictedY)\n",
    "print(PredictedClass)"
   ]
  },
  {
   "cell_type": "code",
   "execution_count": 12,
   "metadata": {},
   "outputs": [
    {
     "data": {
      "image/png": "[encoded data removed]",
      "text/plain": [
       "<Figure size 432x288 with 1 Axes>"
      ]
     },
     "metadata": {
      "needs_background": "light"
     },
     "output_type": "display_data"
    }
   ],
   "source": [
    "for i in range(len(Y)):\n",
    "\tif Y[i] == 0:\n",
    "\t\ty0 = pyplot.scatter(Exam_1[i],Exam_2[i], color = 'red', marker='o')\n",
    "\telse:\n",
    "\t\ty1 = pyplot.scatter(Exam_1[i],Exam_2[i], color = 'blue', marker='+')\n",
    "pyplot.xlabel(\"Exam 1 Score\")\n",
    "pyplot.ylabel(\"Exam 2 Score\")\n",
    "pyplot.title(\"Student Classification based on Exam scores\")\n",
    "pyplot.legend((y0,y1),('Not Admitted','Admitted'))\n",
    "\n",
    "Y1 = -(Theta[0]+(Theta[1]*Exam_1))\n",
    "Y1 = Y1/Theta[2]\n",
    "\n",
    "pyplot.plot(Exam_1,Y1,color = 'black')\n",
    "\n",
    "pyplot.show()"
   ]
  },
  {
   "cell_type": "markdown",
   "metadata": {},
   "source": [
    "## Using SKlearn"
   ]
  },
  {
   "cell_type": "markdown",
   "metadata": {},
   "source": [
    "Just for the sake of comparision let's solve this using scikit learn library"
   ]
  },
  {
   "cell_type": "code",
   "execution_count": 13,
   "metadata": {},
   "outputs": [
    {
     "name": "stdout",
     "output_type": "stream",
     "text": [
      "[1.]\n"
     ]
    }
   ],
   "source": [
    "from sklearn.linear_model import LogisticRegression\n",
    "from sklearn.model_selection import train_test_split\n",
    "\n",
    "X_train, X_test, Y_train, Y_test = train_test_split(X_,Y_,test_size = 0.2,random_state = 7)\n",
    "\n",
    "LogReg = LogisticRegression(random_state=7, solver='lbfgs')\n",
    "LogReg.fit(X_train,Y_train)\n",
    "\n",
    "x = numpy.array([45,85]).reshape(1,-1)\n",
    "\n",
    "print(LogReg.predict(x))"
   ]
  },
  {
   "cell_type": "code",
   "execution_count": null,
   "metadata": {},
   "outputs": [],
   "source": []
  }
 ],
 "metadata": {
  "kernelspec": {
   "display_name": "Python 3",
   "language": "python",
   "name": "python3"
  },
  "language_info": {
   "codemirror_mode": {
    "name": "ipython",
    "version": 3
   },
   "file_extension": ".py",
   "mimetype": "text/x-python",
   "name": "python",
   "nbconvert_exporter": "python",
   "pygments_lexer": "ipython3",
   "version": "3.7.0"
  }
 },
 "nbformat": 4,
 "nbformat_minor": 2
}
